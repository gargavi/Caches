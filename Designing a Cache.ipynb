{
 "cells": [
  {
   "cell_type": "code",
   "execution_count": 249,
   "metadata": {},
   "outputs": [],
   "source": [
    "%reload_ext autoreload\n",
    "%autoreload 2"
   ]
  },
  {
   "cell_type": "code",
   "execution_count": 250,
   "metadata": {},
   "outputs": [],
   "source": [
    "import time"
   ]
  },
  {
   "cell_type": "code",
   "execution_count": 251,
   "metadata": {},
   "outputs": [],
   "source": [
    "from cacheSol import Cache "
   ]
  },
  {
   "cell_type": "code",
   "execution_count": 252,
   "metadata": {},
   "outputs": [],
   "source": [
    "cache_instance = Cache(range(128), capacity = 32, block_size = 4, associativity = 1, penalty = 2)"
   ]
  },
  {
   "cell_type": "markdown",
   "metadata": {},
   "source": [
    "Here we have a \"memory\" of 128, where we have the cache's capacity of 32, with block_size of 4. We assume that the values in \"memory\" are one word long. Thus we have 8 lines, each that can hold 4 blocks, to give us the total capacity of 32. "
   ]
  },
  {
   "cell_type": "code",
   "execution_count": 253,
   "metadata": {},
   "outputs": [
    {
     "data": {
      "text/plain": [
       "{0: {}, 1: {}, 2: {}, 3: {}, 4: {}, 5: {}, 6: {}, 7: {}}"
      ]
     },
     "execution_count": 253,
     "metadata": {},
     "output_type": "execute_result"
    }
   ],
   "source": [
    "cache_instance.cache"
   ]
  },
  {
   "cell_type": "markdown",
   "metadata": {},
   "source": [
    "Before we start, we should have an empty cache, that is indexed by the \"index\" part of the memory address. For a sanity check, we should see 0, 1, 2 as the index values for the provided cache_instance. "
   ]
  },
  {
   "cell_type": "code",
   "execution_count": 254,
   "metadata": {},
   "outputs": [
    {
     "name": "stdout",
     "output_type": "stream",
     "text": [
      "Time taken: 2.006803274154663, with answer: 2\n"
     ]
    }
   ],
   "source": [
    "start = time.time()\n",
    "answer = cache_instance.access(2)\n",
    "print(f\"Time taken: {time.time() - start}, with answer: {answer}\")"
   ]
  },
  {
   "cell_type": "markdown",
   "metadata": {},
   "source": [
    "Because our cache is cold, we should see that the time taken to retrieve the second value in memory (i.e 2) should take just about 2 seconds. Check your implementation if you don't see either 2, or the time taken to be around 2 seconds. "
   ]
  },
  {
   "cell_type": "code",
   "execution_count": 255,
   "metadata": {},
   "outputs": [
    {
     "name": "stdout",
     "output_type": "stream",
     "text": [
      "{0: {0: range(0, 4)}, 1: {}, 2: {}, 3: {}, 4: {}, 5: {}, 6: {}, 7: {}}\n"
     ]
    }
   ],
   "source": [
    "print(cache_instance.cache)"
   ]
  },
  {
   "cell_type": "markdown",
   "metadata": {},
   "source": [
    "We can see that the cache is not partially filled, specifically at the 0 index, and the 0 tag value. Given that the binary value of 2 is 0b000010 does this make sense? We can continue to see what will happen if we try to retrieve the 3rd value. "
   ]
  },
  {
   "cell_type": "code",
   "execution_count": 256,
   "metadata": {
    "scrolled": true
   },
   "outputs": [
    {
     "name": "stdout",
     "output_type": "stream",
     "text": [
      "Time taken: 0.0, with answer: 3\n"
     ]
    }
   ],
   "source": [
    "start = time.time()\n",
    "answer = cache_instance.access(3)\n",
    "print(f\"Time taken: {time.time() - start}, with answer: {answer}\")"
   ]
  },
  {
   "cell_type": "markdown",
   "metadata": {},
   "source": [
    "We can see that the time taken to retrieve this value is much less than before. It is now at an almost negligible time, (depenidng on your computer) which means that our cache is hot for this value. What happens if we try to access 5? "
   ]
  },
  {
   "cell_type": "code",
   "execution_count": 257,
   "metadata": {},
   "outputs": [
    {
     "name": "stdout",
     "output_type": "stream",
     "text": [
      "Time taken: 2.0140976905822754, with answer: 5\n"
     ]
    }
   ],
   "source": [
    "start = time.time()\n",
    "answer = cache_instance.access(5)\n",
    "print(f\"Time taken: {time.time() - start}, with answer: {answer}\")"
   ]
  },
  {
   "cell_type": "code",
   "execution_count": 258,
   "metadata": {},
   "outputs": [
    {
     "data": {
      "text/plain": [
       "{0: {0: range(0, 4)},\n",
       " 1: {0: range(4, 8)},\n",
       " 2: {},\n",
       " 3: {},\n",
       " 4: {},\n",
       " 5: {},\n",
       " 6: {},\n",
       " 7: {}}"
      ]
     },
     "execution_count": 258,
     "metadata": {},
     "output_type": "execute_result"
    }
   ],
   "source": [
    "cache_instance.cache"
   ]
  },
  {
   "cell_type": "markdown",
   "metadata": {},
   "source": [
    "We see now that we have a value within the 1 index of our \"cache\". This is expected since the memory address is 0b000101. This puts out tag value at 01. What is the smallest value can we put that will cause the current value at index 0 of the cache to be thrown out? \n",
    "\n",
    "We know that it must have the same index value, and that the offset value is irrelevant, with the tag being different from the current value in it. This means that we can put: 0b010000 which is equal to 32. Lets try this: "
   ]
  },
  {
   "cell_type": "code",
   "execution_count": 259,
   "metadata": {},
   "outputs": [
    {
     "name": "stdout",
     "output_type": "stream",
     "text": [
      "Time taken: 2.012991428375244, with answer: 32\n"
     ]
    }
   ],
   "source": [
    "start = time.time()\n",
    "answer = cache_instance.access(32)\n",
    "print(f\"Time taken: {time.time() - start}, with answer: {answer}\")"
   ]
  },
  {
   "cell_type": "code",
   "execution_count": 260,
   "metadata": {},
   "outputs": [
    {
     "data": {
      "text/plain": [
       "{0: {1: range(32, 36)},\n",
       " 1: {0: range(4, 8)},\n",
       " 2: {},\n",
       " 3: {},\n",
       " 4: {},\n",
       " 5: {},\n",
       " 6: {},\n",
       " 7: {}}"
      ]
     },
     "execution_count": 260,
     "metadata": {},
     "output_type": "execute_result"
    }
   ],
   "source": [
    "cache_instance.cache"
   ]
  },
  {
   "cell_type": "markdown",
   "metadata": {},
   "source": [
    "Just like we predicted, we should have that the cache at index 1 now has a tag with value 1 and data of range(32, 36). We can also see that this caused us to experience a delay of 2 seconds. I implore you guys to explore on your time what happens to the cache if we increase the associativity, or if we create a simple program how that might have its time altered by different caches. A super simple example is shown below."
   ]
  },
  {
   "cell_type": "code",
   "execution_count": 261,
   "metadata": {},
   "outputs": [],
   "source": [
    "def access_fibonacci(cache): \n",
    "    i = 0\n",
    "    j = 1\n",
    "    while i + j < len(cache.memory):\n",
    "        a = cache.access(i + j)\n",
    "        i = j \n",
    "        j = a "
   ]
  },
  {
   "cell_type": "code",
   "execution_count": 263,
   "metadata": {},
   "outputs": [
    {
     "name": "stdout",
     "output_type": "stream",
     "text": [
      "8.032684564590454\n"
     ]
    }
   ],
   "source": [
    "start = time.time()\n",
    "access_fibonacci(cache_instance)\n",
    "print(time.time() - start)"
   ]
  },
  {
   "cell_type": "code",
   "execution_count": 264,
   "metadata": {},
   "outputs": [
    {
     "name": "stdout",
     "output_type": "stream",
     "text": [
      "16.0793936252594\n"
     ]
    }
   ],
   "source": [
    "cache_instance_2 = cache_instance = Cache(range(128), capacity = 32, block_size = 4, associativity = 2, penalty = 2)\n",
    "start = time.time()\n",
    "access_fibonacci(cache_instance_2)\n",
    "print(time.time() - start)"
   ]
  },
  {
   "cell_type": "markdown",
   "metadata": {},
   "source": [
    "### Shortcomings of This \"Cache\"?   \n",
    "    Discuss with a neighbor"
   ]
  },
  {
   "cell_type": "code",
   "execution_count": null,
   "metadata": {},
   "outputs": [],
   "source": []
  }
 ],
 "metadata": {
  "kernelspec": {
   "display_name": "Python 3",
   "language": "python",
   "name": "python3"
  },
  "language_info": {
   "codemirror_mode": {
    "name": "ipython",
    "version": 3
   },
   "file_extension": ".py",
   "mimetype": "text/x-python",
   "name": "python",
   "nbconvert_exporter": "python",
   "pygments_lexer": "ipython3",
   "version": "3.8.3"
  }
 },
 "nbformat": 4,
 "nbformat_minor": 4
}
