{
 "cells": [
  {
   "cell_type": "code",
   "execution_count": 6,
   "metadata": {},
   "outputs": [
    {
     "name": "stdout",
     "output_type": "stream",
     "text": [
      "L2CacheSize  L3CacheSize  \n",
      "\n",
      "1536         12288        \n",
      "\n",
      "\n",
      "\n"
     ]
    }
   ],
   "source": [
    "!wmic cpu get L2CacheSize, L3Cachesize"
   ]
  },
  {
   "cell_type": "code",
   "execution_count": 8,
   "metadata": {},
   "outputs": [],
   "source": [
    "a = !wmic memcache list "
   ]
  },
  {
   "cell_type": "code",
   "execution_count": 30,
   "metadata": {},
   "outputs": [
    {
     "data": {
      "text/plain": [
       "'Access  AdditionalErrorData  Associativity  Availability  BlockSize  CacheSpeed  CacheType  Caption       ConfigManagerErrorCode  ConfigManagerUserConfig  CorrectableError  CreationClassName  CurrentSRAM  Description   DeviceID        EndingAddress  ErrorAccess  ErrorAddress  ErrorCleared  ErrorCorrectType  ErrorData  ErrorDataOrder  ErrorDescription  ErrorInfo  ErrorMethodology  ErrorResolution  ErrorTime  ErrorTransferSize  FlushTimer  InstallDate  InstalledSize  LastErrorCode  Level  LineSize  Location  MaxCacheSize  Name          NumberOfBlocks  OtherErrorDescription  PNPDeviceID  PowerManagementCapabilities  PowerManagementSupported  Purpose   ReadPolicy  ReplacementPolicy  StartingAddress  Status  StatusInfo  SupportedSRAM  SystemCreationClassName  SystemLevelAddress  SystemName       WritePolicy  '"
      ]
     },
     "execution_count": 30,
     "metadata": {},
     "output_type": "execute_result"
    }
   ],
   "source": [
    "a[0]"
   ]
  },
  {
   "cell_type": "code",
   "execution_count": null,
   "metadata": {},
   "outputs": [],
   "source": []
  }
 ],
 "metadata": {
  "kernelspec": {
   "display_name": "Python 3",
   "language": "python",
   "name": "python3"
  },
  "language_info": {
   "codemirror_mode": {
    "name": "ipython",
    "version": 3
   },
   "file_extension": ".py",
   "mimetype": "text/x-python",
   "name": "python",
   "nbconvert_exporter": "python",
   "pygments_lexer": "ipython3",
   "version": "3.8.3"
  }
 },
 "nbformat": 4,
 "nbformat_minor": 4
}
