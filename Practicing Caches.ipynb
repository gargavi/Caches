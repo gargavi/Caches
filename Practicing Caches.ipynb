{
 "cells": [
  {
   "cell_type": "code",
   "execution_count": 68,
   "metadata": {},
   "outputs": [],
   "source": [
    "import re\n",
    "import pandas as pd\n",
    "from io import StringIO"
   ]
  },
  {
   "cell_type": "code",
   "execution_count": 82,
   "metadata": {},
   "outputs": [
    {
     "data": {
      "text/html": [
       "<style>pre { white-space: pre !important; }</style>"
      ],
      "text/plain": [
       "<IPython.core.display.HTML object>"
      ]
     },
     "metadata": {},
     "output_type": "display_data"
    }
   ],
   "source": [
    "from IPython.core.display import HTML\n",
    "display(HTML(\"<style>pre { white-space: pre !important; }</style>\"))"
   ]
  },
  {
   "cell_type": "code",
   "execution_count": 53,
   "metadata": {},
   "outputs": [],
   "source": [
    "cache_info = !wmic memcache list \n",
    "cache_info_clean = [value for value in cache_info if value != \"\" ]"
   ]
  },
  {
   "cell_type": "code",
   "execution_count": 81,
   "metadata": {
    "scrolled": true
   },
   "outputs": [
    {
     "data": {
      "text/plain": [
       "['Access  AdditionalErrorData  Associativity  Availability  BlockSize  CacheSpeed  CacheType  Caption       ConfigManagerErrorCode  ConfigManagerUserConfig  CorrectableError  CreationClassName  CurrentSRAM  Description   DeviceID        EndingAddress  ErrorAccess  ErrorAddress  ErrorCleared  ErrorCorrectType  ErrorData  ErrorDataOrder  ErrorDescription  ErrorInfo  ErrorMethodology  ErrorResolution  ErrorTime  ErrorTransferSize  FlushTimer  InstallDate  InstalledSize  LastErrorCode  Level  LineSize  Location  MaxCacheSize  Name          NumberOfBlocks  OtherErrorDescription  PNPDeviceID  PowerManagementCapabilities  PowerManagementSupported  Purpose   ReadPolicy  ReplacementPolicy  StartingAddress  Status  StatusInfo  SupportedSRAM  SystemCreationClassName  SystemLevelAddress  SystemName       WritePolicy  ',\n",
       " '                             7              3             1024                   5          Cache Memory                                                                     Win32_CacheMemory  {5}          Cache Memory  Cache Memory 0                                                          4                                                                                                                                                                   384                           3                0         384           Cache Memory  384                                                                                                        L1 Cache                                                  OK      3           {5}            Win32_ComputerSystem                         DESKTOP-S9U0URH  3            ',\n",
       " '                             5              3             1024                   5          Cache Memory                                                                     Win32_CacheMemory  {5}          Cache Memory  Cache Memory 1                                                          5                                                                                                                                                                   1536                          4                0         1536          Cache Memory  1536                                                                                                       L2 Cache                                                  OK      3           {5}            Win32_ComputerSystem                         DESKTOP-S9U0URH  3            ',\n",
       " '                             8              3             1024                   5          Cache Memory                                                                     Win32_CacheMemory  {5}          Cache Memory  Cache Memory 2                                                          6                                                                                                                                                                   12288                         5                0         12288         Cache Memory  12288                                                                                                      L3 Cache                                                  OK      3           {5}            Win32_ComputerSystem                         DESKTOP-S9U0URH  3            ']"
      ]
     },
     "execution_count": 81,
     "metadata": {},
     "output_type": "execute_result"
    }
   ],
   "source": [
    "cache_info_clean"
   ]
  },
  {
   "cell_type": "markdown",
   "metadata": {},
   "source": [
    "### Analysis"
   ]
  },
  {
   "cell_type": "markdown",
   "metadata": {},
   "source": [
    "We can see that the block size is 1024. This means that when we load in a value, we will get a large amount of spatial locality.\n",
    "The Number of Blocks is shown to be 384"
   ]
  },
  {
   "cell_type": "code",
   "execution_count": 103,
   "metadata": {},
   "outputs": [],
   "source": [
    "import numpy as np\n",
    "import time "
   ]
  },
  {
   "cell_type": "code",
   "execution_count": 136,
   "metadata": {},
   "outputs": [
    {
     "name": "stdout",
     "output_type": "stream",
     "text": [
      "Optimized: 0.005997180938720703, Unoptimized: 0.024006128311157227, Ratio: 4.0\n"
     ]
    }
   ],
   "source": [
    "def run_add(optimize= True):\n",
    "    large_matrix = np.random.rand(2**14, 2**14)\n",
    "    large_list = large_matrix.tolist()\n",
    "    start = time.time()\n",
    "    sum_i = 0\n",
    "    if not optimize:\n",
    "        for i in range(2**14):\n",
    "            sum_i += large_list[i][0]\n",
    "    else:\n",
    "        for i in range(2**14):\n",
    "            sum_i += large_list[0][i]\n",
    "    return time.time() - start\n",
    "\n",
    "\n",
    "optimized = run_add(optimize = True)\n",
    "unoptimized = run_add(optimize = False)\n",
    "\n",
    "\n",
    "print(f\"Optimized: {optimized}, Unoptimized: {unoptimized}, Ratio: {np.round(unoptimized/(optimized + 1e-11), 2)}\")"
   ]
  },
  {
   "cell_type": "code",
   "execution_count": 137,
   "metadata": {},
   "outputs": [
    {
     "name": "stdout",
     "output_type": "stream",
     "text": [
      "13 s ± 552 ms per loop (mean ± std. dev. of 7 runs, 1 loop each)\n"
     ]
    }
   ],
   "source": [
    "%timeit run_add(True)"
   ]
  },
  {
   "cell_type": "code",
   "execution_count": 138,
   "metadata": {},
   "outputs": [
    {
     "name": "stdout",
     "output_type": "stream",
     "text": [
      "19.7 s ± 6.68 s per loop (mean ± std. dev. of 7 runs, 1 loop each)\n"
     ]
    }
   ],
   "source": [
    "%timeit run_add(False)"
   ]
  },
  {
   "cell_type": "code",
   "execution_count": null,
   "metadata": {},
   "outputs": [],
   "source": []
  }
 ],
 "metadata": {
  "kernelspec": {
   "display_name": "Python 3",
   "language": "python",
   "name": "python3"
  },
  "language_info": {
   "codemirror_mode": {
    "name": "ipython",
    "version": 3
   },
   "file_extension": ".py",
   "mimetype": "text/x-python",
   "name": "python",
   "nbconvert_exporter": "python",
   "pygments_lexer": "ipython3",
   "version": "3.8.3"
  }
 },
 "nbformat": 4,
 "nbformat_minor": 4
}
